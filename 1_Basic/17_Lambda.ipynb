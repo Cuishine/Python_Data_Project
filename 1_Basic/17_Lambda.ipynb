{
 "cells": [
  {
   "cell_type": "markdown",
   "metadata": {},
   "source": [
    "# Lambda"
   ]
  },
  {
   "cell_type": "markdown",
   "metadata": {},
   "source": [
    "## Notes\n",
    "\n",
    "* `lambda` functions are small, anonymous functions.\n",
    "* They can have any number of arguments but only one expression.\n",
    "* The expression is evaluated and returned.\n",
    "* It has the syntax of: `lambda arguments: expression`.\n",
    "* Why would you use this?\n",
    "    * Concise, it lets you write functions in a single line of code.\n",
    "    * Since its anonymous it doesn't require a separate name like regular functions are defined using `def` keyword (it's good for when you need a function temporarily).\n",
    "\n",
    "\n",
    "## Importance\n",
    "\n",
    "Offers a succinct way to define anonymous functions. Useful in pandas for applying quick transformations to data."
   ]
  },
  {
   "cell_type": "code",
   "execution_count": 2,
   "metadata": {},
   "outputs": [],
   "source": [
    "# Define a labda function to add two numbers\n",
    "\n",
    "add = lambda x, y: x + y"
   ]
  },
  {
   "cell_type": "code",
   "execution_count": 3,
   "metadata": {},
   "outputs": [
    {
     "data": {
      "text/plain": [
       "8"
      ]
     },
     "execution_count": 3,
     "metadata": {},
     "output_type": "execute_result"
    }
   ],
   "source": [
    "# Use the lamba function to add tow numbers\n",
    "result1 = add(3,5)\n",
    "result1"
   ]
  },
  {
   "cell_type": "markdown",
   "metadata": {},
   "source": [
    "## Example\n",
    "\n",
    "Previously, built a function to calculate the total salary.\n",
    "\n",
    "Now what happens if we need to use this function on a list.\n",
    "\n",
    "Well we can use it with list comprehension!"
   ]
  },
  {
   "cell_type": "code",
   "execution_count": 5,
   "metadata": {},
   "outputs": [
    {
     "data": {
      "text/plain": [
       "[88000.0]"
      ]
     },
     "execution_count": 5,
     "metadata": {},
     "output_type": "execute_result"
    }
   ],
   "source": [
    "salary_list = [100000, 200000, 1500000, 120000, 80000, 750000]\n",
    "\n",
    "# Calculate total_salary of base_salary * (1 + bonus_rate)\n",
    "\n",
    "def calculate_salary(base_salary, bonus_rate=.1):\n",
    "    return base_salary * (1+bonus_rate)\n",
    "\n",
    "total_salary_list = [calculate_salary(salary) for salary in salary_list if salary < 100000]\n",
    "total_salary_list "
   ]
  }
 ],
 "metadata": {
  "kernelspec": {
   "display_name": "python_course",
   "language": "python",
   "name": "python3"
  },
  "language_info": {
   "codemirror_mode": {
    "name": "ipython",
    "version": 3
   },
   "file_extension": ".py",
   "mimetype": "text/x-python",
   "name": "python",
   "nbconvert_exporter": "python",
   "pygments_lexer": "ipython3",
   "version": "3.11.10"
  }
 },
 "nbformat": 4,
 "nbformat_minor": 2
}
