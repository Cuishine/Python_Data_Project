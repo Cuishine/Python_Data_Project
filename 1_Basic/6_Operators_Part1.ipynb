{
 "cells": [
  {
   "cell_type": "markdown",
   "metadata": {},
   "source": [
    "# Operators Part 1"
   ]
  },
  {
   "cell_type": "markdown",
   "metadata": {},
   "source": [
    "## Notes\n",
    "\n",
    "* **Operators** are used to perform operations on variables and values.\n",
    "* In this notebook we'll go over the following operator groups:\n",
    "  * Arithmetic operators\n",
    "  * Assignment operators\n",
    "  * Comparison operators\n",
    "* There are more operators but we'll go over that in a bit. \n",
    "\n",
    "## Importance\n",
    "\n",
    "Arithmetic operators are essential for calculations, assignment operators for updating data, and comparison operators for filtering, all crucial for data analysis in libraries like Pandas and Matplotlib."
   ]
  },
  {
   "cell_type": "markdown",
   "metadata": {},
   "source": [
    "### Arithmetic Operators\n",
    "\n",
    "Arithmetic operators are used with objects (mainly numeric ones) to perform math operations:\n",
    "\n",
    "| Operator \t| Name           \t| Example \t|\n",
    "|----------\t|----------------\t|---------\t|\n",
    "| +        \t| Addition       \t| x + y   \t|\n",
    "| -        \t| Subtraction    \t| x - y   \t|\n",
    "| *        \t| Multiplication \t| x * y   \t|\n",
    "| /        \t| Division       \t| x / y   \t|\n",
    "| %        \t| Modulus        \t| x % y   \t|\n",
    "| **       \t| Exponentiation \t| x ** y  \t|\n",
    "| //       \t| Floor division \t| x // y  \t|"
   ]
  },
  {
   "cell_type": "markdown",
   "metadata": {},
   "source": [
    "### Assignment Operators\n",
    "\n",
    "Assignment operators are used to assign values to variables.\n",
    "\n",
    "| Operator | Name                | Example |\n",
    "|----------|---------------------|---------|\n",
    "| =        | Assign              | x = y   |\n",
    "| +=       | Add and assign      | x += y  |\n",
    "| -=       | Subtract and assign | x -= y  |\n",
    "| *=       | Multiply and assign | x *= y  |\n",
    "| /=       | Divide and assign   | x /= y  |\n",
    "| %=       | Modulus and assign  | x %= y  |\n",
    "| **=      | Exponent and assign | x **= y |\n",
    "| //=      | Floor divide and assign | x //= y  |"
   ]
  },
  {
   "cell_type": "markdown",
   "metadata": {},
   "source": [
    "### Comparison Operators\n",
    "\n",
    "Comparison operators compare two values and determine the relation between them.\n",
    "\n",
    "| Operator | Name                  | Example |\n",
    "|----------|-----------------------|---------|\n",
    "| ==       | Equal to              | x == y  |\n",
    "| !=       | Not equal to          | x != y  |\n",
    "| >        | Greater than          | x > y   |\n",
    "| <        | Less than             | x < y   |\n",
    "| >=       | Greater than or equal | x >= y  |\n",
    "| <=       | Less than or equal    | x <= y  |\n"
   ]
  },
  {
   "cell_type": "code",
   "execution_count": 3,
   "metadata": {},
   "outputs": [
    {
     "data": {
      "text/plain": [
       "\"What's Up!\""
      ]
     },
     "execution_count": 3,
     "metadata": {},
     "output_type": "execute_result"
    }
   ],
   "source": [
    "\"What's \" + \"Up\" + \"!\""
   ]
  },
  {
   "cell_type": "code",
   "execution_count": 4,
   "metadata": {},
   "outputs": [
    {
     "data": {
      "text/plain": [
       "\"What's up? What's up? What's up? What's up? What's up? What's up? What's up? What's up? What's up? What's up? \""
      ]
     },
     "execution_count": 4,
     "metadata": {},
     "output_type": "execute_result"
    }
   ],
   "source": [
    "\"What's up? \" * 10"
   ]
  },
  {
   "cell_type": "code",
   "execution_count": 5,
   "metadata": {},
   "outputs": [
    {
     "ename": "TypeError",
     "evalue": "unsupported operand type(s) for -: 'str' and 'str'",
     "output_type": "error",
     "traceback": [
      "\u001b[1;31m---------------------------------------------------------------------------\u001b[0m",
      "\u001b[1;31mTypeError\u001b[0m                                 Traceback (most recent call last)",
      "Cell \u001b[1;32mIn[5], line 1\u001b[0m\n\u001b[1;32m----> 1\u001b[0m \u001b[38;5;124;43m\"\u001b[39;49m\u001b[38;5;124;43mWhat\u001b[39;49m\u001b[38;5;124;43m'\u001b[39;49m\u001b[38;5;124;43ms up\u001b[39;49m\u001b[38;5;124;43m\"\u001b[39;49m\u001b[43m \u001b[49m\u001b[38;5;241;43m-\u001b[39;49m\u001b[43m \u001b[49m\u001b[38;5;124;43m\"\u001b[39;49m\u001b[38;5;124;43mUp\u001b[39;49m\u001b[38;5;124;43m\"\u001b[39;49m\n",
      "\u001b[1;31mTypeError\u001b[0m: unsupported operand type(s) for -: 'str' and 'str'"
     ]
    }
   ],
   "source": [
    "\"What's up\" - \"Up\""
   ]
  },
  {
   "cell_type": "code",
   "execution_count": null,
   "metadata": {},
   "outputs": [
    {
     "data": {
      "text/plain": [
       "\"What's \""
      ]
     },
     "execution_count": 7,
     "metadata": {},
     "output_type": "execute_result"
    }
   ],
   "source": [
    "\"What's up\".replace(\"up\", \"\")"
   ]
  },
  {
   "cell_type": "code",
   "execution_count": null,
   "metadata": {},
   "outputs": [],
   "source": [
    "min_salary = 20_000 # _ is ignored by the interpreter\n",
    "max_salary = 80_000\n",
    "ave_salary = (min_salary + max_salary) / 2"
   ]
  },
  {
   "cell_type": "code",
   "execution_count": null,
   "metadata": {},
   "outputs": [],
   "source": [
    "applicant_1 = \"kelly\"\n",
    "applicant_2 = \"john\"\n",
    "applicant_3 = \"jane\""
   ]
  },
  {
   "cell_type": "code",
   "execution_count": null,
   "metadata": {},
   "outputs": [],
   "source": [
    "applicant_1, applicant_2, applicant_3 = applicant_3, applicant_1, applicant_2"
   ]
  },
  {
   "cell_type": "code",
   "execution_count": null,
   "metadata": {},
   "outputs": [
    {
     "name": "stdout",
     "output_type": "stream",
     "text": [
      "['jane', 'kelly', 'john']\n"
     ]
    }
   ],
   "source": [
    "print([applicant_1,\n",
    "applicant_2,\n",
    "applicant_3\n",
    "])"
   ]
  },
  {
   "cell_type": "code",
   "execution_count": null,
   "metadata": {},
   "outputs": [
    {
     "name": "stdout",
     "output_type": "stream",
     "text": [
      "Applicant 1: Charlie\n",
      "Applicant 2: Alice\n",
      "Applicant 3: Bob\n"
     ]
    }
   ],
   "source": [
    "# Initial values\n",
    "applicant_1 = \"Alice\"\n",
    "applicant_2 = \"Bob\"\n",
    "applicant_3 = \"Charlie\"\n",
    "\n",
    "# Swap the values\n",
    "applicant_1, applicant_2, applicant_3 = applicant_3, applicant_1, applicant_2\n",
    "\n",
    "# Print the new values\n",
    "print(f\"Applicant 1: {applicant_1}\")\n",
    "print(f\"Applicant 2: {applicant_2}\")\n",
    "print(f\"Applicant 3: {applicant_3}\")"
   ]
  },
  {
   "cell_type": "code",
   "execution_count": null,
   "metadata": {},
   "outputs": [],
   "source": [
    "salary_kelly = 50_000\n",
    "salary_john = 80_000"
   ]
  },
  {
   "cell_type": "code",
   "execution_count": null,
   "metadata": {},
   "outputs": [
    {
     "data": {
      "text/plain": [
       "False"
      ]
     },
     "execution_count": 30,
     "metadata": {},
     "output_type": "execute_result"
    }
   ],
   "source": [
    "salary_kelly == salary_john"
   ]
  },
  {
   "cell_type": "markdown",
   "metadata": {},
   "source": []
  },
  {
   "cell_type": "code",
   "execution_count": null,
   "metadata": {},
   "outputs": [
    {
     "name": "stdout",
     "output_type": "stream",
     "text": [
      "John makes more than Kelly\n"
     ]
    }
   ],
   "source": [
    "if (salary_kelly > salary_john):\n",
    "    print(\"Kelly makes more than John\")\n",
    "else:\n",
    "    print(\"John makes more than Kelly\")"
   ]
  }
 ],
 "metadata": {
  "kernelspec": {
   "display_name": "python_course",
   "language": "python",
   "name": "python3"
  },
  "language_info": {
   "codemirror_mode": {
    "name": "ipython",
    "version": 3
   },
   "file_extension": ".py",
   "mimetype": "text/x-python",
   "name": "python",
   "nbconvert_exporter": "python",
   "pygments_lexer": "ipython3",
   "version": "3.11.10"
  }
 },
 "nbformat": 4,
 "nbformat_minor": 2
}
