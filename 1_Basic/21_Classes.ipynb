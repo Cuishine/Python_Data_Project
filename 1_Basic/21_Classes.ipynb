{
 "cells": [
  {
   "cell_type": "markdown",
   "metadata": {},
   "source": [
    "# Classes\n"
   ]
  },
  {
   "cell_type": "markdown",
   "metadata": {},
   "source": [
    "## Python Objects\n",
    "\n",
    "### Notes\n",
    "\n",
    "* Python is an object oriented programming language.\n",
    "* Almost everything is an object, with properties and methods.\n",
    "* A **class** is like an object constructor.\n",
    "\n",
    "In our course we'll briefly go over classes, but it won't be covered in detail."
   ]
  },
  {
   "cell_type": "markdown",
   "metadata": {},
   "source": [
    "## Importance\n",
    "\n",
    "Classes are the basis for Object-Oriented Programming in Python. While not directly used in pandas or matplotlib operations, understanding them is vital for extending these libraries or customizing functionalities."
   ]
  },
  {
   "cell_type": "markdown",
   "metadata": {},
   "source": [
    "## Simple Example \n",
    "\n",
    "### Create Class\n",
    "\n",
    "We're creating a class called `LukesList`, don't worry about the code following that.\n",
    "- Ths class operates very similiar to a `list` object"
   ]
  },
  {
   "cell_type": "code",
   "execution_count": 21,
   "metadata": {},
   "outputs": [],
   "source": [
    "class LukesList:\n",
    "    def __init__(self):\n",
    "        \"\"\"Initialize an empty list.\"\"\"\n",
    "        self._items = []\n",
    "\n",
    "    def add(self, item):\n",
    "        \"\"\"Add an item to the end of the list.\"\"\"\n",
    "        self._items.append(item)\n",
    "\n",
    "    def __getitem__(self, index):\n",
    "        \"\"\"Retrieve an item by index.\"\"\"\n",
    "        return self._items[index]\n",
    "\n",
    "    def __setitem__(self, index, value):\n",
    "        \"\"\"Set an item at a specific index.\"\"\"\n",
    "        self._items[index] = value\n",
    "\n",
    "    def __repr__(self):\n",
    "        \"\"\"Return a string representation of the list.\"\"\"\n",
    "        return str(self._items)\n",
    "\n",
    "    def __len__(self):\n",
    "        \"\"\"Return the length of the list.\"\"\"\n",
    "        return len(self._items)"
   ]
  },
  {
   "cell_type": "code",
   "execution_count": 22,
   "metadata": {},
   "outputs": [
    {
     "data": {
      "text/plain": [
       "[]"
      ]
     },
     "execution_count": 22,
     "metadata": {},
     "output_type": "execute_result"
    }
   ],
   "source": [
    "my_list = LukesList()\n",
    "\n",
    "my_list"
   ]
  },
  {
   "cell_type": "code",
   "execution_count": 23,
   "metadata": {},
   "outputs": [
    {
     "data": {
      "text/plain": [
       "['Data Nerd']"
      ]
     },
     "execution_count": 23,
     "metadata": {},
     "output_type": "execute_result"
    }
   ],
   "source": [
    "my_list.add(\"Data Nerd\")\n",
    "\n",
    "my_list"
   ]
  },
  {
   "cell_type": "code",
   "execution_count": 24,
   "metadata": {},
   "outputs": [
    {
     "data": {
      "text/plain": [
       "['Data Nerd', 'Finance Nerd']"
      ]
     },
     "execution_count": 24,
     "metadata": {},
     "output_type": "execute_result"
    }
   ],
   "source": [
    "my_list.add(\"Finance Nerd\")\n",
    "my_list"
   ]
  },
  {
   "cell_type": "code",
   "execution_count": 25,
   "metadata": {},
   "outputs": [
    {
     "data": {
      "text/plain": [
       "['Data Nerd', 'Finance Nerd']"
      ]
     },
     "execution_count": 25,
     "metadata": {},
     "output_type": "execute_result"
    }
   ],
   "source": [
    "\n",
    "my_list"
   ]
  },
  {
   "cell_type": "code",
   "execution_count": 26,
   "metadata": {},
   "outputs": [
    {
     "data": {
      "text/plain": [
       "2"
      ]
     },
     "execution_count": 26,
     "metadata": {},
     "output_type": "execute_result"
    }
   ],
   "source": [
    "len(my_list)"
   ]
  },
  {
   "cell_type": "code",
   "execution_count": 27,
   "metadata": {},
   "outputs": [],
   "source": [
    "# def calculate_salary(base_salary, bonus_rate=.1):\n",
    "#   \"\"\"\n",
    "#   Calculate the total salary based on the base salary and bonus rate.\n",
    "\n",
    "#   Args:\n",
    "#     base_salary (float): The base salary.\n",
    "#     bonus_rate (float): The bonus rate. Default is .1.\n",
    "  \n",
    "#   Returns:\n",
    "#     float: The total salary.\n",
    "#   \"\"\"\n",
    "#   return base_salary * (1 + bonus_rate)\n",
    "\n",
    "# def calculate_bonus(total_salary, base_salary):\n",
    "#   \"\"\"\n",
    "#   Calculate the bonus rate based on the total salary and base salary.\n",
    "\n",
    "#   Args:\n",
    "#     total_salary (float): The total salary.\n",
    "#     base_salary (float): The base salary.\n",
    "\n",
    "#   Returns:\n",
    "#     float: The bonus rate.\n",
    "#   \"\"\" \n",
    "#   return (total_salary - base_salary) / base_salary"
   ]
  },
  {
   "cell_type": "code",
   "execution_count": 28,
   "metadata": {},
   "outputs": [],
   "source": [
    "class BaseSalary:\n",
    "    def __init__(self, base_salary, bonus_rate=0.1, symbol=\"$\"):\n",
    "        self.base_salary = base_salary\n",
    "        self.bonus_rate = bonus_rate\n",
    "        self.symbol = symbol\n",
    "        self.total_salary = base_salary * (1 + bonus_rate)\n",
    "        self.bonus = self.total_salary - base_salary\n",
    "    def __repr__(self):\n",
    "        return f'{self.symbol}{self.base_salary:,.0f}' \n",
    "    \n",
    "    def show_salary(self):\n",
    "        return f'{self.symbol}{self.total_salary:,.0f}' \n",
    "    \n",
    "    def show_bonus(self):\n",
    "        return f'{self.symbol}{self.bonus:,.0f}'"
   ]
  },
  {
   "cell_type": "code",
   "execution_count": 29,
   "metadata": {},
   "outputs": [
    {
     "data": {
      "text/plain": [
       "'$'"
      ]
     },
     "execution_count": 29,
     "metadata": {},
     "output_type": "execute_result"
    }
   ],
   "source": [
    "salary = BaseSalary(100000)\n",
    "\n",
    "salary.symbol"
   ]
  },
  {
   "cell_type": "code",
   "execution_count": 30,
   "metadata": {},
   "outputs": [
    {
     "data": {
      "text/plain": [
       "$100,000"
      ]
     },
     "execution_count": 30,
     "metadata": {},
     "output_type": "execute_result"
    }
   ],
   "source": [
    "salary"
   ]
  },
  {
   "cell_type": "code",
   "execution_count": 31,
   "metadata": {},
   "outputs": [
    {
     "data": {
      "text/plain": [
       "'$110,000'"
      ]
     },
     "execution_count": 31,
     "metadata": {},
     "output_type": "execute_result"
    }
   ],
   "source": [
    "salary.show_salary()"
   ]
  },
  {
   "cell_type": "code",
   "execution_count": 32,
   "metadata": {},
   "outputs": [
    {
     "data": {
      "text/plain": [
       "'$10,000'"
      ]
     },
     "execution_count": 32,
     "metadata": {},
     "output_type": "execute_result"
    }
   ],
   "source": [
    "salary.show_bonus()"
   ]
  },
  {
   "cell_type": "markdown",
   "metadata": {},
   "source": [
    "## `__init__()` function\n",
    "\n",
    "### Notes\n",
    "\n",
    "* All classes have a function called `__init__()`, it's always executed when a class is being initiated.\n",
    "* Use the `__init__()` function to assign values to object properties, or other operations that are necessary when the object is created.\n",
    "\n",
    "\n",
    "### Example \n",
    "\n",
    "Create a class named `DataScienceJobList`, use the `__init__()` function to assign values for `jobs`."
   ]
  },
  {
   "cell_type": "markdown",
   "metadata": {},
   "source": [
    "Example of how to use this class: we'll create a list of data science jobs called `data_science_jobs`."
   ]
  },
  {
   "cell_type": "code",
   "execution_count": 33,
   "metadata": {},
   "outputs": [],
   "source": [
    "class DataScienceJobsList:\n",
    "    def __init__(self, jobs):\n",
    "        self.jobs = jobs"
   ]
  },
  {
   "cell_type": "code",
   "execution_count": 34,
   "metadata": {},
   "outputs": [],
   "source": [
    "data_science_jobs = [\n",
    "    {'job_title': 'Data Scientist', 'job_skills': \"Python, SQL, Machine Learning\"},\n",
    "    {'job_title': 'Data Analyst', 'job_skills': \"SQL, Excel, Python\"},\n",
    "    {'job_title': 'Machine Learning Engineer', 'job_skills': \"Python, TensorFlow, Keras\"}\n",
    "]"
   ]
  },
  {
   "cell_type": "markdown",
   "metadata": {},
   "source": [
    "Then we will assign this class to an object called `jobs_list` and return `jobs_list`."
   ]
  },
  {
   "cell_type": "code",
   "execution_count": 35,
   "metadata": {},
   "outputs": [
    {
     "data": {
      "text/plain": [
       "<__main__.DataScienceJobsList at 0x1ed3d08fcd0>"
      ]
     },
     "execution_count": 35,
     "metadata": {},
     "output_type": "execute_result"
    }
   ],
   "source": [
    "jobs_list = DataScienceJobsList(data_science_jobs)\n",
    "jobs_list"
   ]
  },
  {
   "cell_type": "markdown",
   "metadata": {},
   "source": [
    "Okay if we try to print or call this object it just displays: `<__main__.DataScienceJobsList at 0x1fab8c6b190>` which isn't very useful. So we'll use a function called `__str__()` to output something better."
   ]
  },
  {
   "cell_type": "markdown",
   "metadata": {},
   "source": [
    "## `__str__()` function\n",
    "\n",
    "### Notes\n",
    "\n",
    "* `__str__()` function shows what should be returned when the class object is represented as a string. \n",
    "* If it's not set, the string representation of the object is returned (like it is in the example above). \n",
    "\n",
    "### Example \n",
    "\n",
    "Create a class named `DataScienceJobList`, that has:\n",
    "* What we did before: \n",
    "    * The `__init__()` function to assign values for `jobs` (what we created in the last example).\n",
    "* Now: \n",
    "    * A `__str__()` function to print out the data science jobs.\n",
    "\n",
    "Note: Each time we create/add a new method, we have to redefine the whole class in another cell."
   ]
  },
  {
   "cell_type": "code",
   "execution_count": 36,
   "metadata": {},
   "outputs": [],
   "source": [
    "class DataScienceJobsList:\n",
    "    def __init__(self, jobs):\n",
    "        '''\n",
    "        Initializes the DataScienceJobsList object with a list of jobs.\n",
    "        '''\n",
    "        self.jobs = jobs\n",
    "        \n",
    "    def __str__(self):\n",
    "        '''\n",
    "        Returns a string representation of the data science jobs list.\n",
    "        '''\n",
    "        jobs_str = 'Data Science Jobs:\\n'\n",
    "        for job in self.jobs:\n",
    "            # Assuming job_skills is initially a string; it will be split later\n",
    "            jobs_str += f\"- {job['job_title']}: {job['job_skills']}\\n\"\n",
    "        return jobs_str"
   ]
  },
  {
   "cell_type": "markdown",
   "metadata": {},
   "source": [
    "Then we will assign this class to an object called `jobs_list` and print `jobs_list`. Because of the `__str__()` function it will now print out what we told it to instead of the string representation. \n"
   ]
  },
  {
   "cell_type": "code",
   "execution_count": 37,
   "metadata": {},
   "outputs": [
    {
     "name": "stdout",
     "output_type": "stream",
     "text": [
      "Data Science Jobs:\n",
      "- Data Scientist: Python, SQL, Machine Learning\n",
      "- Data Analyst: SQL, Excel, Python\n",
      "- Machine Learning Engineer: Python, TensorFlow, Keras\n",
      "\n"
     ]
    }
   ],
   "source": [
    "jobs_list = DataScienceJobsList(data_science_jobs)\n",
    "print(jobs_list)"
   ]
  },
  {
   "cell_type": "markdown",
   "metadata": {},
   "source": [
    "## Object Methods\n",
    "\n",
    "### Notes\n",
    "\n",
    "* Object can also contain methods\n",
    "* Methods in objects are functions that belong to the object\n",
    "\n",
    "### Example \n",
    "\n",
    "Create a class named `DataScienceJobList`, that has:\n",
    "* What we created before: \n",
    "    * The `__init__()` function to assign values for `jobs`\n",
    "    * A `__str__()` function to print out the data science jobs\n",
    "* Now:\n",
    "    * A `split_skills` method that converts the job skills to a list "
   ]
  },
  {
   "cell_type": "code",
   "execution_count": 40,
   "metadata": {},
   "outputs": [],
   "source": [
    "class DataScienceJobsList:\n",
    "    def __init__(self, jobs):\n",
    "        self.jobs = jobs\n",
    "        \n",
    "    def __str__(self):\n",
    "        jobs_str = 'Data Science Jobs:\\n'\n",
    "        for job in self.jobs:\n",
    "            jobs_str += f\"- {job['job_title']}: {', '.join(job['job_skills'])}\\n\"\n",
    "        return jobs_str\n",
    "        \n",
    "    def split_skills(self):\n",
    "        for job in self.jobs:\n",
    "            job['job_skills'] = job['job_skills'].split(', ')"
   ]
  },
  {
   "cell_type": "markdown",
   "metadata": {},
   "source": [
    "Then we will assign this class to an object called `jobs_list` and call the `split_skills()` method."
   ]
  },
  {
   "cell_type": "code",
   "execution_count": 43,
   "metadata": {},
   "outputs": [
    {
     "name": "stdout",
     "output_type": "stream",
     "text": [
      "<bound method DataScienceJobsList.split_skills of <__main__.DataScienceJobsList object at 0x000001ED3D097BD0>>\n"
     ]
    }
   ],
   "source": [
    "jobs_list = DataScienceJobsList(data_science_jobs)\n",
    "jobs_list = jobs_list.split_skills # Ensure this is called to split the skills into lists\n",
    "print(jobs_list)"
   ]
  },
  {
   "cell_type": "markdown",
   "metadata": {},
   "source": []
  },
  {
   "cell_type": "code",
   "execution_count": null,
   "metadata": {},
   "outputs": [],
   "source": []
  }
 ],
 "metadata": {
  "kernelspec": {
   "display_name": "python_course",
   "language": "python",
   "name": "python3"
  },
  "language_info": {
   "codemirror_mode": {
    "name": "ipython",
    "version": 3
   },
   "file_extension": ".py",
   "mimetype": "text/x-python",
   "name": "python",
   "nbconvert_exporter": "python",
   "pygments_lexer": "ipython3",
   "version": "3.11.10"
  }
 },
 "nbformat": 4,
 "nbformat_minor": 2
}
