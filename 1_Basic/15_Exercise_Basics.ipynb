{
 "cells": [
  {
   "cell_type": "markdown",
   "metadata": {},
   "source": [
    "# Exercise - Basic"
   ]
  },
  {
   "cell_type": "markdown",
   "metadata": {},
   "source": [
    "## Topics Covered:\n",
    "\n",
    "his exercise goes over:\n",
    "\n",
    "* Variables\n",
    "* Operators\n",
    "* Conditional Statements\n",
    "* Lists\n",
    "* Dictionaries \n",
    "* Loops\n",
    "\n",
    "## Question\n",
    "\n",
    "Write a Python script to find out what jobs you are qualified based on a set of skills. The script will evaluate a list of job roles, each associated with its own set of required skills, against the skills you have. Determine which roles you're potentially qualified for and print out these roles. If there are no roles that match your skills, print a message saying there are no matching job roles based on the provided skills.\n",
    "\n",
    "We have some pre-defined variables that you will be using:\n",
    "\n",
    "1. `job_roles`: list of dictionaries, where each dictionary represents a different job role within data science. Each dictionary has the key-value pairs:\n",
    "    * `role`: Name of the job role\n",
    "    * `skills`: A list of strings, each representing a skill required for the job\n",
    "2. `my_skills`: A list of strings, representing the skills you have"
   ]
  },
  {
   "cell_type": "code",
   "execution_count": 39,
   "metadata": {},
   "outputs": [],
   "source": [
    "# Define data science job roles and required skills\n",
    "job_roles = [\n",
    "    {'role': 'Data Analyst', 'skills': ['Python', 'SQL', 'Excel']},\n",
    "    {'role': 'Data Scientist', 'skills': ['Python', 'R', 'Machine Learning', 'Deep Learning']},\n",
    "    {'role': 'Machine Learning Engineer', 'skills': ['Python', 'TensorFlow', 'PyTorch', 'Scikit-Learn']},\n",
    "    {'role': 'Data Engineer', 'skills': ['Python', 'Apache Spark', 'Hadoop', 'SQL']},\n",
    "    {'role': 'Business Intelligence Analyst', 'skills': ['Python', 'SQL', 'Tableau', 'Power BI', 'Excel']},\n",
    "    {'role': 'Quantitative Analyst', 'skills': ['R', 'Python', 'MATLAB', 'Statistics']},\n",
    "    {'role': 'Operations Analyst', 'skills': ['Python', 'SQL', 'Data Visualization', 'Process Improvement']},\n",
    "    {'role': 'Database Administrator', 'skills': ['SQL', 'Oracle', 'MySQL', 'Database Management']},\n",
    "    {'role': 'AI Engineer', 'skills': ['Python', 'TensorFlow', 'PyTorch', 'Computer Vision']},\n",
    "    {'role': 'Statistician', 'skills': ['R', 'SAS', 'Python', 'Statistical Modeling']}\n",
    "]\n",
    "# My skills\n",
    "my_skills = ['Python', 'SQL', 'Excel']"
   ]
  },
  {
   "cell_type": "markdown",
   "metadata": {},
   "source": [
    "**Step 1**: Iterate through each job role in `job_roles` and determine whether or not you have the required skills. Get the roles you are qualified for in a list.\n",
    "\n",
    "**Notes**:\n",
    "* Create an empty list where we will put the roles we qualify for `qualified_roles`.\n",
    "* Use a `for` loop to go through the jobs.\n",
    "* Nested `for` loop to look through the skills for each role.\n",
    "* An `if` statement checks if the skill in the role is in the list of skills provided.\n",
    "* If it's true then add that role to the `qualified_roles` list we created."
   ]
  },
  {
   "cell_type": "code",
   "execution_count": null,
   "metadata": {},
   "outputs": [
    {
     "data": {
      "text/plain": [
       "['Data Analyst', 'Business Intelligence Analyst']"
      ]
     },
     "execution_count": 48,
     "metadata": {},
     "output_type": "execute_result"
    }
   ],
   "source": [
    "#  # Determine which jobs you're qualified for\n",
    "# qualified_roles = []\n",
    "\n",
    "# for job in job_roles:\n",
    "#      # Initialize qualified glag\n",
    "#      qualified = True\n",
    "#      for skill in my_skills:\n",
    "#           if skill not in job['skills']:\n",
    "#                qualified = False\n",
    "#                break\n",
    "#      if qualified:\n",
    "#         # Add the job dictionary to the qualified_job list\n",
    "#         qualified_roles.append(job['role'])\n",
    "\n",
    "# qualified_roles\n",
    "\n"
   ]
  },
  {
   "cell_type": "code",
   "execution_count": 52,
   "metadata": {},
   "outputs": [
    {
     "data": {
      "text/plain": [
       "['Data Analyst',\n",
       " 'Business Intelligence Analyst',\n",
       " 'Data Analyst',\n",
       " 'Business Intelligence Analyst']"
      ]
     },
     "execution_count": 52,
     "metadata": {},
     "output_type": "execute_result"
    }
   ],
   "source": [
    "Qualified_roles = [] \n",
    "\n",
    "for job in job_roles:\n",
    "    qualified = True\n",
    "\n",
    "    for skill in my_skills:\n",
    "        if skill not in job['skills']:\n",
    "            qualified = False\n",
    "            break\n",
    "    if qualified:\n",
    "        qualified_roles.append(job['role'])\n",
    "\n",
    "qualified_roles"
   ]
  },
  {
   "cell_type": "code",
   "execution_count": 53,
   "metadata": {},
   "outputs": [
    {
     "data": {
      "text/plain": [
       "['Data Analyst', 'Business Intelligence Analyst']"
      ]
     },
     "execution_count": 53,
     "metadata": {},
     "output_type": "execute_result"
    }
   ],
   "source": [
    "# Determine which jobs you're qualified for\n",
    "qualified_roles = []\n",
    "\n",
    "for job in job_roles:\n",
    "    # Check if all required skills are in my_skills\n",
    "    if all(skill in job['skills'] for skill in my_skills):\n",
    "        # Add the job role to the qualified_roles list\n",
    "        qualified_roles.append(job['role'])\n",
    "\n",
    "qualified_roles"
   ]
  },
  {
   "cell_type": "code",
   "execution_count": 57,
   "metadata": {},
   "outputs": [
    {
     "data": {
      "text/plain": [
       "['Data Analyst', 'Business Intelligence Analyst']"
      ]
     },
     "execution_count": 57,
     "metadata": {},
     "output_type": "execute_result"
    }
   ],
   "source": [
    "qualified_roles = [job['role'] for job in job_roles if all(skill in job['skills'] for skill in my_skills)]\n",
    "qualified_roles"
   ]
  },
  {
   "cell_type": "code",
   "execution_count": null,
   "metadata": {},
   "outputs": [],
   "source": []
  }
 ],
 "metadata": {
  "kernelspec": {
   "display_name": "python_course",
   "language": "python",
   "name": "python3"
  },
  "language_info": {
   "codemirror_mode": {
    "name": "ipython",
    "version": 3
   },
   "file_extension": ".py",
   "mimetype": "text/x-python",
   "name": "python",
   "nbconvert_exporter": "python",
   "pygments_lexer": "ipython3",
   "version": "3.11.10"
  }
 },
 "nbformat": 4,
 "nbformat_minor": 2
}
