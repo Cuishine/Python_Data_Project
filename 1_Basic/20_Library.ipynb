{
 "cells": [
  {
   "cell_type": "markdown",
   "metadata": {},
   "source": [
    "# Libraries"
   ]
  },
  {
   "cell_type": "markdown",
   "metadata": {},
   "source": [
    "### Notes\n",
    "* A library is a collection of packages or modules that are grouped together to extend functionality\n",
    "* Types:\n",
    "  1. Standard libraries (included with Python)\n",
    "  2. Third-party libraries & packages (need to be installed)\n",
    "* Typically, installed using package managers like pip or conda\n",
    "\n",
    "### What the heck are Packages then?\n",
    "- A package can include modules and sub-packages \n",
    "\n",
    "### Packages vs Libraries\n",
    "- Python uses packages to organize inside it's libraries, and libraries to provide and extend functionalities.   \n",
    "- While **all libraries can be considered packages** (if they are structured that way), **not all packages are libraries**.\n",
    "\n",
    "### Importance \n",
    "* It helps save time, standardize processes, and add complex functionalities easily.\n",
    "* Used for things like data analysis, machine learning, web development, automation, and more."
   ]
  },
  {
   "cell_type": "markdown",
   "metadata": {},
   "source": [
    "## Standard Python Libraries\n",
    "\n",
    "### Notes\n",
    "\n",
    "* The same as modules, we use the `from` and `import` keywords. \n",
    "    * The`import` gets the module modules\n",
    "    * The `from` is to get specific attributes from a module directly\n",
    "* When to use one or the other: \n",
    "    * `import module_name`: When you need to access several functions or attributes from a module\n",
    "    * `from module_name import attribute_name`: Use when you only need a specific function or attribute from a module"
   ]
  },
  {
   "cell_type": "markdown",
   "metadata": {},
   "source": [
    "### Importance of Libraries\n",
    "\n",
    "### Notes\n",
    "\n",
    "What if we want to be able to manipulate files? We can use the standard library in Python to open, read, write, and close files.\n",
    "\n",
    "Functions:\n",
    "- `open`: Opens a file. The 'r' mode is for reading, 'w' for writing (overwrites content), 'a' for appending, and 'b' for binary mode.\n",
    "- `read`: Reads the content of an opened file. Can also use `readline()` for a single line or `readlines()` for all lines as a list.\n",
    "- `write`: Writes a string to an opened file. If the file is opened in append mode ('a'), the text is added at the end.\n",
    "- `close`: Closes an opened file, which is important for freeing up system resources.\n",
    "\n",
    "### Examples\n",
    "\n",
    "**Note: This example is meant to be done on Google Colab with accesses to the `sample_data` folder**.\n",
    "\n",
    "To read the contents of `california_housing_test.csv` and print them:"
   ]
  }
 ],
 "metadata": {
  "kernelspec": {
   "display_name": "python_course",
   "language": "python",
   "name": "python3"
  },
  "language_info": {
   "name": "python",
   "version": "3.11.10"
  }
 },
 "nbformat": 4,
 "nbformat_minor": 2
}
