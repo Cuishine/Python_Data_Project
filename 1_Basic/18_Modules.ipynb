{
 "cells": [
  {
   "cell_type": "markdown",
   "metadata": {},
   "source": [
    "# Modules"
   ]
  },
  {
   "cell_type": "markdown",
   "metadata": {},
   "source": [
    "We'll be going over:\n",
    "- Create a module\n",
    "- Using modules"
   ]
  },
  {
   "cell_type": "markdown",
   "metadata": {},
   "source": [
    "## What is a Module\n",
    "\n",
    "* Consider a module to be the same as a code library.\n",
    "* It's a file containing a set of functions you want to include.\n",
    "\n",
    "#### Importance\n",
    "\n",
    "Essential for accessing pandas and Matplotlib functionalities, allowing data analysis and visualization."
   ]
  },
  {
   "cell_type": "code",
   "execution_count": 11,
   "metadata": {},
   "outputs": [
    {
     "name": "stdout",
     "output_type": "stream",
     "text": [
      "['Python', 'SQL', 'Excel']\n"
     ]
    }
   ],
   "source": [
    "# Create the module\n",
    "with open('my_module.py', 'w') as file:\n",
    "    file.write(\"\"\"\n",
    "skill_list = ['Python', 'SQL', 'Excel']\n",
    "               \n",
    "def skill(skill_name):\n",
    "    return f'{skill_name} is my favorite skill! '           \n",
    "\n",
    "\"\"\")\n",
    "\n",
    "skill_list = ['Python', 'SQL', 'Excel']\n",
    "\n",
    "# Import the moduel\n",
    "import my_module\n",
    "\n",
    "# Access and print the skill_list\n",
    "print(my_module.skill_list)\n",
    "\n",
    "\n"
   ]
  },
  {
   "cell_type": "code",
   "execution_count": 12,
   "metadata": {},
   "outputs": [
    {
     "data": {
      "text/plain": [
       "'Python is my favorite skill! '"
      ]
     },
     "execution_count": 12,
     "metadata": {},
     "output_type": "execute_result"
    }
   ],
   "source": [
    "my_module.skill('Python')"
   ]
  },
  {
   "cell_type": "code",
   "execution_count": 13,
   "metadata": {},
   "outputs": [],
   "source": [
    "# Create the module\n",
    "with open('job_analyzer.py', 'w') as file:\n",
    "    file.write(\"\"\"\n",
    "               \n",
    "def calculate_salary(base_salary, bonus_rate=.1):\n",
    "    \\\"\\\"\\\"\n",
    "    Calculate the total salary based on the base salary and bonus rate.\n",
    "               \n",
    "    Args:\n",
    "        base_salary (float): The base salary.\n",
    "        bonus_rate (float): The bonus rate. Default is .1\n",
    "               \n",
    "    Returns:\n",
    "        float: The total salary\n",
    "    \\\"\\\"\\\"\n",
    "    return base_salary * (1 + bonus_rate)   \n",
    "\n",
    "def calculate_bonus(total_salary, base_salary):\n",
    "    \\\"\\\"\\\"\n",
    "    Calculate the bonus rate based on the base salary and the total salary.\n",
    "               \n",
    "    Args:\n",
    "        total_salary (float): The total salary.\n",
    "        base_salary (float): The base salary.\n",
    "               \n",
    "    Returns:\n",
    "        float: The bonus rate.\n",
    "    \\\"\\\"\\\"\n",
    "    return (total_salary - base_salary) / base_salary                     \n",
    "\n",
    "\"\"\")\n"
   ]
  },
  {
   "cell_type": "code",
   "execution_count": 14,
   "metadata": {},
   "outputs": [
    {
     "name": "stdout",
     "output_type": "stream",
     "text": [
      "1100000.0\n",
      "0.1\n"
     ]
    }
   ],
   "source": [
    "from job_analyzer import *\n",
    "\n",
    "print(calculate_salary(1000000))\n",
    "print(calculate_bonus(110000, 100000))"
   ]
  },
  {
   "cell_type": "code",
   "execution_count": null,
   "metadata": {},
   "outputs": [
    {
     "name": "stdout",
     "output_type": "stream",
     "text": [
      "Help on function calculate_salary in module job_analyzer:\n",
      "\n",
      "calculate_salary(base_salary, bonus_rate=0.1)\n",
      "    Calculate the total salary based on the base salary and bonus rate.\n",
      "               \n",
      "    Args:\n",
      "        base_salary (float): The base salary.\n",
      "        bonus_rate (float): The bonus rate. Default is .1\n",
      "               \n",
      "    Returns:\n",
      "        float: The total salary\n",
      "\n",
      "Help on function calculate_bonus in module job_analyzer:\n",
      "\n",
      "calculate_bonus(total_salary, base_salary)\n",
      "    Calculate the bonus rate based on the base salary and the total salary.\n",
      "               \n",
      "    Args:\n",
      "        total_salary (float): The total salary.\n",
      "        base_salary (float): The base salary.\n",
      "               \n",
      "    Returns:\n",
      "        float: The bonus rate.\n",
      "\n"
     ]
    }
   ],
   "source": [
    "help(calculate_salary)\n"
   ]
  },
  {
   "cell_type": "code",
   "execution_count": 17,
   "metadata": {},
   "outputs": [
    {
     "name": "stdout",
     "output_type": "stream",
     "text": [
      "Help on function calculate_bonus in module job_analyzer:\n",
      "\n",
      "calculate_bonus(total_salary, base_salary)\n",
      "    Calculate the bonus rate based on the base salary and the total salary.\n",
      "               \n",
      "    Args:\n",
      "        total_salary (float): The total salary.\n",
      "        base_salary (float): The base salary.\n",
      "               \n",
      "    Returns:\n",
      "        float: The bonus rate.\n",
      "\n"
     ]
    }
   ],
   "source": [
    "help(calculate_bonus)"
   ]
  },
  {
   "cell_type": "code",
   "execution_count": 18,
   "metadata": {},
   "outputs": [],
   "source": [
    "salary_list = [98000, 101000, 102000, 99000, 97000]"
   ]
  },
  {
   "cell_type": "code",
   "execution_count": 24,
   "metadata": {},
   "outputs": [
    {
     "data": {
      "text/plain": [
       "99400"
      ]
     },
     "execution_count": 24,
     "metadata": {},
     "output_type": "execute_result"
    }
   ],
   "source": [
    "from statistics import mean, mode, median, multimode\n",
    "\n",
    "mean(salary_list)"
   ]
  },
  {
   "cell_type": "code",
   "execution_count": 26,
   "metadata": {},
   "outputs": [
    {
     "data": {
      "text/plain": [
       "[98000, 101000, 102000, 99000, 97000]"
      ]
     },
     "execution_count": 26,
     "metadata": {},
     "output_type": "execute_result"
    }
   ],
   "source": [
    "multimode(salary_list)"
   ]
  },
  {
   "cell_type": "code",
   "execution_count": 27,
   "metadata": {},
   "outputs": [
    {
     "data": {
      "text/plain": [
       "99000"
      ]
     },
     "execution_count": 27,
     "metadata": {},
     "output_type": "execute_result"
    }
   ],
   "source": [
    "median(salary_list)\n"
   ]
  }
 ],
 "metadata": {
  "kernelspec": {
   "display_name": "python_course",
   "language": "python",
   "name": "python3"
  },
  "language_info": {
   "codemirror_mode": {
    "name": "ipython",
    "version": 3
   },
   "file_extension": ".py",
   "mimetype": "text/x-python",
   "name": "python",
   "nbconvert_exporter": "python",
   "pygments_lexer": "ipython3",
   "version": "3.11.10"
  }
 },
 "nbformat": 4,
 "nbformat_minor": 2
}
