{
 "cells": [
  {
   "cell_type": "markdown",
   "metadata": {},
   "source": [
    "# Operators Part 2"
   ]
  },
  {
   "cell_type": "markdown",
   "metadata": {},
   "source": [
    "## Notes\n",
    "\n",
    "* **Operators** are used to perform operations on variables and values.\n",
    "* In this notebook we'll go over the rest of the operator groups:\n",
    "  * Logical operators\n",
    "  * Identity operators\n",
    "  * Membership operators\n",
    "  * Bitwise operators\n",
    "\n",
    "## Importance\n",
    "\n",
    "**Logical operators** are used for combining conditional statements, **identity operators** for comparing object identities, **membership operators** for testing data presence in sequences, and **bitwise operators** for manipulating individual bits, all are vital for complex data operations in Python."
   ]
  }
 ],
 "metadata": {
  "kernelspec": {
   "display_name": "python_course",
   "language": "python",
   "name": "python3"
  },
  "language_info": {
   "name": "python",
   "version": "3.11.10"
  }
 },
 "nbformat": 4,
 "nbformat_minor": 2
}
