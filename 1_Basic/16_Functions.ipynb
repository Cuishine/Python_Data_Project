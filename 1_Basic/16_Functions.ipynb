{
 "cells": [
  {
   "cell_type": "markdown",
   "metadata": {},
   "source": [
    "# Functions"
   ]
  },
  {
   "cell_type": "markdown",
   "metadata": {},
   "source": [
    "## What is a Function\n",
    "\n",
    "### Notes\n",
    "\n",
    "* A **function** is a block of code that only runs when it's called.\n",
    "* You can pass data (called **parameters**) into a function.\n",
    "* The function can return data as a result.\n",
    "\n",
    "## Importance\n",
    "\n",
    "Enable us to resuse the code and make it more modular, important for complex data analysis and plotting routines."
   ]
  },
  {
   "cell_type": "markdown",
   "metadata": {},
   "source": [
    "## Types of Functions\n",
    "\n",
    "| Type of Function             | Example Function              | Section            |\n",
    "|------------------------------|-------------------------------|--------------------|\n",
    "| Built-In functions           | `max()`                       | 1. Getting Started |\n",
    "| User-defined functions       | `def my_function(): pass`     | 16. Functions      |\n",
    "| Lambda functions             | `lambda x: x + 1`             | 17. Lambda         |\n",
    "| Standard Library functions   | `math.sqrt()`                 | 18. Modules        |\n",
    "| Third-Party Library Functions| `numpy.array()`               | 19. Library        |\n",
    "\n",
    "Note: We won't be covering Generator, Asynchronous, or Recursive Functions as they are out of scope of Data Analytics."
   ]
  },
  {
   "cell_type": "markdown",
   "metadata": {},
   "source": [
    "## Built-in Functions\n",
    "\n",
    "Standard within python. We've already used a few:\n",
    "\n",
    "* `print()`: Displays output\n",
    "* `type()`: Checks the data type of objects\n",
    "* `range()`: Generates a sequence of numbers, useful in loops\n",
    "* `len()`: Counts the number of elements in a data structure\n",
    "\n",
    "[Here are all the built-in functions in Python](https://docs.python.org/3/library/functions.html)."
   ]
  },
  {
   "cell_type": "code",
   "execution_count": 2,
   "metadata": {},
   "outputs": [],
   "source": [
    "data_salaries = [95000, 100000, 85000, 97000, 140000]"
   ]
  },
  {
   "cell_type": "code",
   "execution_count": 3,
   "metadata": {},
   "outputs": [
    {
     "data": {
      "text/plain": [
       "85000"
      ]
     },
     "execution_count": 3,
     "metadata": {},
     "output_type": "execute_result"
    }
   ],
   "source": [
    "min(data_salaries)"
   ]
  },
  {
   "cell_type": "code",
   "execution_count": 4,
   "metadata": {},
   "outputs": [
    {
     "data": {
      "text/plain": [
       "140000"
      ]
     },
     "execution_count": 4,
     "metadata": {},
     "output_type": "execute_result"
    }
   ],
   "source": [
    "max(data_salaries)\n"
   ]
  },
  {
   "cell_type": "markdown",
   "metadata": {},
   "source": [
    "## User-Defined Functions\n",
    "\n",
    "These are created by the user with your name and syntax of choice: `calculate_something_special()`.\n",
    "\n",
    "#### WARNING \n",
    "Do not name your function the same as standard Python objects.\n",
    "\n",
    "For example, this is a bad idea:\n",
    "\n",
    "```python\n",
    "def print(input):\n",
    "    return \"Hello\" + input\n",
    "```\n",
    "\n",
    "In this case the built-in `print()` function would be overridden."
   ]
  },
  {
   "cell_type": "code",
   "execution_count": 18,
   "metadata": {},
   "outputs": [],
   "source": [
    "\n",
    "\n",
    "# Calculate total_salary of base_salary * (1 + bonus_rate)\n",
    "\n",
    "def calculate_salary(base_salary, bonus_rate=.1):\n",
    "\n",
    "    total_salary = base_salary * (1+bonus_rate)\n",
    "    return total_salary"
   ]
  },
  {
   "cell_type": "code",
   "execution_count": 22,
   "metadata": {},
   "outputs": [
    {
     "data": {
      "text/plain": [
       "150000.0"
      ]
     },
     "execution_count": 22,
     "metadata": {},
     "output_type": "execute_result"
    }
   ],
   "source": [
    "base_salary = 100000\n",
    "bonus_rate = 0.5\n",
    "\n",
    "calculate_salary(base_salary, bonus_rate)"
   ]
  },
  {
   "cell_type": "markdown",
   "metadata": {},
   "source": [
    "## Advanced Concepts (Not Convered In Video)\n",
    "\n",
    "### Arbitrary Arguments (*Args)\n",
    "\n",
    "#### Notes\n",
    "\n",
    "* If you're not sure how many arguments will be passed into your function, add a `*` before the parameter name in the function definition.\n",
    "* The function will now receive a tuple of arguments.\n",
    "* Arbitrary Arguments are often called `*args`.\n",
    "\n",
    "#### Example\n",
    "\n",
    "First we'll create a dictionary of job titles and their average salaries. "
   ]
  },
  {
   "cell_type": "code",
   "execution_count": 23,
   "metadata": {},
   "outputs": [
    {
     "name": "stdout",
     "output_type": "stream",
     "text": [
      "Job Title and Average Salary Analysis:\n",
      "- Data Analyst: $60,000\n",
      "- Business Analyst: $65,000\n",
      "- Data Engineer: $90,000\n"
     ]
    }
   ],
   "source": [
    "def analyze_skills(*args):\n",
    "    \"\"\"\n",
    "    Print skills with their corresponding average salaries using positional arguments.\n",
    "\n",
    "    Each argument is expected to be a tuple containing a job title or skill and its average salary.\n",
    "\n",
    "    :param args: A sequence of tuples, where each tuple contains a job title or skill and its average salary.\n",
    "    \"\"\"\n",
    "    print('Job Title and Average Salary Analysis:')\n",
    "    for skill_salary_pair in args:\n",
    "        skill, salary = skill_salary_pair\n",
    "        print(f'- {skill}: ${salary:,}')\n",
    "\n",
    "# Calling the function with tuples of job titles and their average salaries\n",
    "analyze_skills(('Data Analyst', 60000), ('Business Analyst', 65000), ('Data Engineer', 90000))"
   ]
  },
  {
   "cell_type": "markdown",
   "metadata": {},
   "source": [
    "### Arbitrary Keyword Arguments (**Kwargs)\n",
    "\n",
    "#### Notes\n",
    "\n",
    "* If you don't know how many keyword arguments will be passed into the function, add two asterisk `**` before the parameter name in the function definition.\n",
    "* This will have the function receive a dictionary of arguments.\n",
    "\n",
    "#### Example"
   ]
  },
  {
   "cell_type": "code",
   "execution_count": 25,
   "metadata": {},
   "outputs": [
    {
     "name": "stdout",
     "output_type": "stream",
     "text": [
      "Skill and Average Salary Analysis:\n",
      "- Data_Analyst: $60,000\n",
      "- Business_Analyst: $65,000\n",
      "- Data_Engineer: $90,000\n"
     ]
    }
   ],
   "source": [
    "def analyze_skills(**skills_salaries):\n",
    "    \"\"\"\n",
    "    Print skills with their corresponding average salaries using keyword arguments.\n",
    "\n",
    "    :param skills_salaries: Keyword arguments where keys are skills or job titles, and values are average salaries.\n",
    "    \"\"\"\n",
    "    print('Skill and Average Salary Analysis:')\n",
    "    for skill, salary in skills_salaries.items():\n",
    "        print(f'- {skill}: ${salary:,}')\n",
    "\n",
    "# Calling the function with keyword arguments for skills and their average salaries\n",
    "analyze_skills(Data_Analyst=60000, Business_Analyst=65000, Data_Engineer=90000)"
   ]
  }
 ],
 "metadata": {
  "kernelspec": {
   "display_name": "python_course",
   "language": "python",
   "name": "python3"
  },
  "language_info": {
   "codemirror_mode": {
    "name": "ipython",
    "version": 3
   },
   "file_extension": ".py",
   "mimetype": "text/x-python",
   "name": "python",
   "nbconvert_exporter": "python",
   "pygments_lexer": "ipython3",
   "version": "3.11.10"
  }
 },
 "nbformat": 4,
 "nbformat_minor": 2
}
